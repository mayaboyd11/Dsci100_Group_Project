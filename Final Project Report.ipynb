{
 "cells": [
  {
   "cell_type": "markdown",
   "id": "ee9b8a9d-1a67-40ba-b66d-a555ebca571d",
   "metadata": {},
   "source": [
    "<h1><b>Final Project Report</h1>"
   ]
  },
  {
   "cell_type": "code",
   "execution_count": null,
   "id": "f44d81fb-0e2c-4398-8921-01dfb2f7d924",
   "metadata": {},
   "outputs": [],
   "source": []
  }
 ],
 "metadata": {
  "kernelspec": {
   "display_name": "R",
   "language": "R",
   "name": "ir"
  },
  "language_info": {
   "codemirror_mode": "r",
   "file_extension": ".r",
   "mimetype": "text/x-r-source",
   "name": "R",
   "pygments_lexer": "r",
   "version": "4.3.3"
  }
 },
 "nbformat": 4,
 "nbformat_minor": 5
}
